{
 "cells": [
  {
   "cell_type": "markdown",
   "metadata": {},
   "source": [
    "# M5 Forecasting - Accuracy\n",
    "\n",
    "Соревнование на платформе Kaggle для предсказания продаж по различным продуктам сети Walmart на 28 дней вперед.\n",
    "\n",
    "Набор данных включает в себя данный о продажах 3049 продуктов, классифицированных на 3 категории: Хобби, Продукты питания и Товары для дома, и разделенных еще на 7 категорий.\n",
    "Продукты продаются в 10 магазинах 3 штатов (Калифорния, Техас и Вайоминг). \n",
    "\n",
    "## Файлы\n",
    "\n",
    "* <code>calendar.csv</code> Содержит информацию о датах продажи товаров.\n",
    "\n",
    "* <code>sales_train_validation.csv</code> Содержит ежедневные данные о продажах товаров в каждом магазине \n",
    "\n",
    "* <code>sample_submission.csv</code> Пример предоставления данных.\n",
    "\n",
    "* <code>sell_prices.csv</code> Содержит информацию о ценах по дням.\n",
    "\n",
    "Файл 'calerndar.csv' включает информацию о датах продаж:\n",
    "* <code>date</code> - Дата в формате 'y-m-d'\n",
    "* <code>wm_yr_wk</code> - Идентификатор недели, к которому относится дата\n",
    "* <code>weekday</code> - День недели (понедельник, вторник, ...)\n",
    "* <code>wday</code> - Идентификатор дня недели,начиная с воскресенья\n",
    "* <code>month</code> - Месяц\n",
    "* <code>year</code> - Год\n",
    "* <code>d</code> - Номер дня\n",
    "* <code>event_name_1</code> - Название праздника\n",
    "* <code>event_type_1</code> - Тип праздника\n",
    "* <code>event_name_2</code> - Название праздника,  если он не вошел в event_name_1\n",
    "* <code>event_type_2</code> - Тип праздника, если он не вошел в event_name_1\n",
    "* <code>snap_CA, snap_TX, snap_WI</code> - Бинарная переменная (0, 1), указывющая, осуществляются ли в указанную дату в магазинах Калифорнии, Техаса и Вайоминга покупки SNAP. SNAP - продовольственная программа правительства США по выдаче бесплатных продуктов \n",
    "\n",
    "Файл 'sales_train_validation.csv' содержит информацию о ежедневных данных о продажах на единицу товара и магазина:\n",
    "* <code>id</code> - Идентификатор \n",
    "* <code>item_id</code> - Идентификатор продукта\n",
    "* <code>dept_id</code> - Идентификатор вида продукта\n",
    "* <code>cat_id</code> - Идентификатор категории продукта\n",
    "* <code>store_id</code> - Идентификатор магазина\n",
    "* <code>state_id</code> - Штат, в котором расположен магазин\n",
    "* <code>d_1, d_2, ... , d_1914</code> - Количество покупок в день, начиная с даты 29.01.2011\n",
    "\n",
    "Файл 'sell_price.csv' содержит информацию о ежедневных ценах на товар:\n",
    "* <code>store_id</code> - Идентификатор магазина\n",
    "* <code>item_id</code> - Идентификатор продукта\n",
    "* <code>wm_yr_wk</code> - Идентификатор недели\n",
    "* <code>sell_price</code> - Цена продукта"
   ]
  },
  {
   "cell_type": "markdown",
   "metadata": {},
   "source": [
    "### Импорт модулей"
   ]
  },
  {
   "cell_type": "code",
   "execution_count": 1,
   "metadata": {},
   "outputs": [],
   "source": [
    "import pandas as pd\n",
    "import numpy as np\n",
    "from  datetime import datetime, timedelta\n",
    "import dateutil.relativedelta\n",
    "from sklearn.model_selection import train_test_split\n",
    "import lightgbm as lgb\n",
    "import gc\n",
    "import pickle\n",
    "import random \n",
    "import time\n",
    "import math"
   ]
  },
  {
   "cell_type": "code",
   "execution_count": 2,
   "metadata": {},
   "outputs": [],
   "source": [
    "# функция для преобразования типов данных в столбцах\n",
    "def reduce_mem_usage(df, verbose=True):\n",
    "    numerics = ['int16', 'int32', 'int64', 'float16', 'float32', 'float64']\n",
    "    start_mem = df.memory_usage().sum() / 1024**2    \n",
    "    for col in df.columns: \n",
    "        col_type = df[col].dtypes\n",
    "        if col_type in numerics: \n",
    "            c_min = df[col].min()\n",
    "            c_max = df[col].max()\n",
    "            if str(col_type)[:3] == 'int':\n",
    "                if c_min > np.iinfo(np.int8).min and c_max < np.iinfo(np.int8).max:\n",
    "                    df[col] = df[col].astype(np.int8)\n",
    "                elif c_min > np.iinfo(np.int16).min and c_max < np.iinfo(np.int16).max:\n",
    "                    df[col] = df[col].astype(np.int16)\n",
    "                elif c_min > np.iinfo(np.int32).min and c_max < np.iinfo(np.int32).max:\n",
    "                    df[col] = df[col].astype(np.int32)\n",
    "                elif c_min > np.iinfo(np.int64).min and c_max < np.iinfo(np.int64).max:\n",
    "                    df[col] = df[col].astype(np.int64)  \n",
    "            else:\n",
    "                if c_min > np.finfo(np.float16).min and c_max < np.finfo(np.float16).max:\n",
    "                    df[col] = df[col].astype(np.float16)\n",
    "                elif c_min > np.finfo(np.float32).min and c_max < np.finfo(np.float32).max:\n",
    "                    df[col] = df[col].astype(np.float32)\n",
    "                else:\n",
    "                    df[col] = df[col].astype(np.float64)    \n",
    "    end_mem = df.memory_usage().sum() / 1024**2\n",
    "    if verbose: print('Объем памяти снизился на {:5.2f} Mb ({:.1f}%)'\\\n",
    "                      .format(end_mem, 100 * (start_mem - end_mem) / start_mem))\n",
    "    return df"
   ]
  },
  {
   "cell_type": "code",
   "execution_count": 3,
   "metadata": {},
   "outputs": [],
   "source": [
    "pd.options.display.max_columns = 50 #увеличесние максимального количества выводимых столбцов"
   ]
  },
  {
   "cell_type": "markdown",
   "metadata": {},
   "source": [
    "### Загрузка данных "
   ]
  },
  {
   "cell_type": "code",
   "execution_count": 4,
   "metadata": {},
   "outputs": [
    {
     "name": "stdout",
     "output_type": "stream",
     "text": [
      "Объем памяти снизился на  0.12 Mb (41.9%)\n",
      "Calendar содержит 1969 строк и 14 колонок\n",
      "Объем памяти снизился на 130.48 Mb (37.5%)\n",
      "Sell_prices содержит 6841121 строк и 4 колонок\n",
      "Sales_train_validation содержит 30490 строк и 1919 колонок\n"
     ]
    }
   ],
   "source": [
    "calendar = pd.read_csv('calendar.csv')\n",
    "calendar = reduce_mem_usage(calendar)\n",
    "print('Calendar содержит {} строк и {} колонок'.format(calendar.shape[0], calendar.shape[1]))\n",
    "\n",
    "sell_prices = pd.read_csv('sell_prices.csv')\n",
    "sell_prices = reduce_mem_usage(sell_prices)\n",
    "print('Sell_prices содержит {} строк и {} колонок'.format(sell_prices.shape[0], sell_prices.shape[1]))\n",
    "\n",
    "sales = pd.read_csv('sales_train_validation.csv')\n",
    "print('Sales_train_validation содержит {} строк и {} колонок'.format(sales.shape[0], sales.shape[1]))"
   ]
  },
  {
   "cell_type": "code",
   "execution_count": 5,
   "metadata": {},
   "outputs": [],
   "source": [
    "id_columns = ['id', 'item_id', 'dept_id', 'cat_id', 'store_id', 'state_id']\n",
    "product = sales[id_columns].drop_duplicates()"
   ]
  },
  {
   "cell_type": "code",
   "execution_count": 6,
   "metadata": {},
   "outputs": [],
   "source": [
    "submission = pd.read_csv('sample_submission.csv')\n",
    "validate_submission = submission[submission.id.str.endswith('validation')]\n",
    "eval_submission = submission[submission.id.str.endswith('evaluation')]\n",
    "\n",
    "newcolumns = ['id'] + ['d_{}'.format(i) for i in range(1914, 1914+28)]\n",
    "validate_submission.columns = newcolumns\n",
    "validate_submission = validate_submission.merge(product, how = 'left', on = 'id')"
   ]
  },
  {
   "cell_type": "code",
   "execution_count": 7,
   "metadata": {},
   "outputs": [
    {
     "name": "stdout",
     "output_type": "stream",
     "text": [
      "730 d_1184\n",
      "(30490, 736)\n"
     ]
    },
    {
     "data": {
      "text/html": [
       "<div>\n",
       "<style scoped>\n",
       "    .dataframe tbody tr th:only-of-type {\n",
       "        vertical-align: middle;\n",
       "    }\n",
       "\n",
       "    .dataframe tbody tr th {\n",
       "        vertical-align: top;\n",
       "    }\n",
       "\n",
       "    .dataframe thead th {\n",
       "        text-align: right;\n",
       "    }\n",
       "</style>\n",
       "<table border=\"1\" class=\"dataframe\">\n",
       "  <thead>\n",
       "    <tr style=\"text-align: right;\">\n",
       "      <th></th>\n",
       "      <th>id</th>\n",
       "      <th>item_id</th>\n",
       "      <th>dept_id</th>\n",
       "      <th>cat_id</th>\n",
       "      <th>store_id</th>\n",
       "      <th>state_id</th>\n",
       "      <th>d_1184</th>\n",
       "      <th>d_1185</th>\n",
       "      <th>d_1186</th>\n",
       "      <th>d_1187</th>\n",
       "      <th>d_1188</th>\n",
       "      <th>d_1189</th>\n",
       "      <th>d_1190</th>\n",
       "      <th>d_1191</th>\n",
       "      <th>d_1192</th>\n",
       "      <th>d_1193</th>\n",
       "      <th>d_1194</th>\n",
       "      <th>d_1195</th>\n",
       "      <th>d_1196</th>\n",
       "      <th>d_1197</th>\n",
       "      <th>d_1198</th>\n",
       "      <th>d_1199</th>\n",
       "      <th>d_1200</th>\n",
       "      <th>d_1201</th>\n",
       "      <th>d_1202</th>\n",
       "      <th>...</th>\n",
       "      <th>d_1889</th>\n",
       "      <th>d_1890</th>\n",
       "      <th>d_1891</th>\n",
       "      <th>d_1892</th>\n",
       "      <th>d_1893</th>\n",
       "      <th>d_1894</th>\n",
       "      <th>d_1895</th>\n",
       "      <th>d_1896</th>\n",
       "      <th>d_1897</th>\n",
       "      <th>d_1898</th>\n",
       "      <th>d_1899</th>\n",
       "      <th>d_1900</th>\n",
       "      <th>d_1901</th>\n",
       "      <th>d_1902</th>\n",
       "      <th>d_1903</th>\n",
       "      <th>d_1904</th>\n",
       "      <th>d_1905</th>\n",
       "      <th>d_1906</th>\n",
       "      <th>d_1907</th>\n",
       "      <th>d_1908</th>\n",
       "      <th>d_1909</th>\n",
       "      <th>d_1910</th>\n",
       "      <th>d_1911</th>\n",
       "      <th>d_1912</th>\n",
       "      <th>d_1913</th>\n",
       "    </tr>\n",
       "  </thead>\n",
       "  <tbody>\n",
       "    <tr>\n",
       "      <th>0</th>\n",
       "      <td>HOBBIES_1_001_CA_1_validation</td>\n",
       "      <td>HOBBIES_1_001</td>\n",
       "      <td>HOBBIES_1</td>\n",
       "      <td>HOBBIES</td>\n",
       "      <td>CA_1</td>\n",
       "      <td>CA</td>\n",
       "      <td>0</td>\n",
       "      <td>1</td>\n",
       "      <td>0</td>\n",
       "      <td>1</td>\n",
       "      <td>0</td>\n",
       "      <td>0</td>\n",
       "      <td>0</td>\n",
       "      <td>0</td>\n",
       "      <td>1</td>\n",
       "      <td>0</td>\n",
       "      <td>0</td>\n",
       "      <td>0</td>\n",
       "      <td>0</td>\n",
       "      <td>0</td>\n",
       "      <td>0</td>\n",
       "      <td>1</td>\n",
       "      <td>0</td>\n",
       "      <td>0</td>\n",
       "      <td>0</td>\n",
       "      <td>...</td>\n",
       "      <td>0</td>\n",
       "      <td>0</td>\n",
       "      <td>0</td>\n",
       "      <td>1</td>\n",
       "      <td>0</td>\n",
       "      <td>4</td>\n",
       "      <td>2</td>\n",
       "      <td>3</td>\n",
       "      <td>0</td>\n",
       "      <td>1</td>\n",
       "      <td>2</td>\n",
       "      <td>0</td>\n",
       "      <td>0</td>\n",
       "      <td>0</td>\n",
       "      <td>1</td>\n",
       "      <td>1</td>\n",
       "      <td>3</td>\n",
       "      <td>0</td>\n",
       "      <td>1</td>\n",
       "      <td>1</td>\n",
       "      <td>1</td>\n",
       "      <td>3</td>\n",
       "      <td>0</td>\n",
       "      <td>1</td>\n",
       "      <td>1</td>\n",
       "    </tr>\n",
       "    <tr>\n",
       "      <th>1</th>\n",
       "      <td>HOBBIES_1_002_CA_1_validation</td>\n",
       "      <td>HOBBIES_1_002</td>\n",
       "      <td>HOBBIES_1</td>\n",
       "      <td>HOBBIES</td>\n",
       "      <td>CA_1</td>\n",
       "      <td>CA</td>\n",
       "      <td>0</td>\n",
       "      <td>0</td>\n",
       "      <td>1</td>\n",
       "      <td>0</td>\n",
       "      <td>0</td>\n",
       "      <td>0</td>\n",
       "      <td>0</td>\n",
       "      <td>0</td>\n",
       "      <td>2</td>\n",
       "      <td>0</td>\n",
       "      <td>0</td>\n",
       "      <td>0</td>\n",
       "      <td>0</td>\n",
       "      <td>1</td>\n",
       "      <td>0</td>\n",
       "      <td>0</td>\n",
       "      <td>0</td>\n",
       "      <td>0</td>\n",
       "      <td>1</td>\n",
       "      <td>...</td>\n",
       "      <td>0</td>\n",
       "      <td>0</td>\n",
       "      <td>0</td>\n",
       "      <td>0</td>\n",
       "      <td>0</td>\n",
       "      <td>0</td>\n",
       "      <td>0</td>\n",
       "      <td>0</td>\n",
       "      <td>0</td>\n",
       "      <td>0</td>\n",
       "      <td>0</td>\n",
       "      <td>0</td>\n",
       "      <td>0</td>\n",
       "      <td>0</td>\n",
       "      <td>0</td>\n",
       "      <td>0</td>\n",
       "      <td>0</td>\n",
       "      <td>0</td>\n",
       "      <td>0</td>\n",
       "      <td>0</td>\n",
       "      <td>1</td>\n",
       "      <td>0</td>\n",
       "      <td>0</td>\n",
       "      <td>0</td>\n",
       "      <td>0</td>\n",
       "    </tr>\n",
       "    <tr>\n",
       "      <th>2</th>\n",
       "      <td>HOBBIES_1_003_CA_1_validation</td>\n",
       "      <td>HOBBIES_1_003</td>\n",
       "      <td>HOBBIES_1</td>\n",
       "      <td>HOBBIES</td>\n",
       "      <td>CA_1</td>\n",
       "      <td>CA</td>\n",
       "      <td>0</td>\n",
       "      <td>0</td>\n",
       "      <td>0</td>\n",
       "      <td>0</td>\n",
       "      <td>0</td>\n",
       "      <td>1</td>\n",
       "      <td>0</td>\n",
       "      <td>0</td>\n",
       "      <td>0</td>\n",
       "      <td>0</td>\n",
       "      <td>0</td>\n",
       "      <td>2</td>\n",
       "      <td>0</td>\n",
       "      <td>0</td>\n",
       "      <td>1</td>\n",
       "      <td>0</td>\n",
       "      <td>0</td>\n",
       "      <td>0</td>\n",
       "      <td>0</td>\n",
       "      <td>...</td>\n",
       "      <td>0</td>\n",
       "      <td>0</td>\n",
       "      <td>0</td>\n",
       "      <td>1</td>\n",
       "      <td>0</td>\n",
       "      <td>0</td>\n",
       "      <td>0</td>\n",
       "      <td>1</td>\n",
       "      <td>0</td>\n",
       "      <td>0</td>\n",
       "      <td>0</td>\n",
       "      <td>0</td>\n",
       "      <td>0</td>\n",
       "      <td>1</td>\n",
       "      <td>2</td>\n",
       "      <td>2</td>\n",
       "      <td>1</td>\n",
       "      <td>2</td>\n",
       "      <td>1</td>\n",
       "      <td>1</td>\n",
       "      <td>1</td>\n",
       "      <td>0</td>\n",
       "      <td>1</td>\n",
       "      <td>1</td>\n",
       "      <td>1</td>\n",
       "    </tr>\n",
       "    <tr>\n",
       "      <th>3</th>\n",
       "      <td>HOBBIES_1_004_CA_1_validation</td>\n",
       "      <td>HOBBIES_1_004</td>\n",
       "      <td>HOBBIES_1</td>\n",
       "      <td>HOBBIES</td>\n",
       "      <td>CA_1</td>\n",
       "      <td>CA</td>\n",
       "      <td>1</td>\n",
       "      <td>4</td>\n",
       "      <td>1</td>\n",
       "      <td>1</td>\n",
       "      <td>1</td>\n",
       "      <td>1</td>\n",
       "      <td>1</td>\n",
       "      <td>2</td>\n",
       "      <td>14</td>\n",
       "      <td>2</td>\n",
       "      <td>2</td>\n",
       "      <td>0</td>\n",
       "      <td>2</td>\n",
       "      <td>1</td>\n",
       "      <td>2</td>\n",
       "      <td>3</td>\n",
       "      <td>3</td>\n",
       "      <td>2</td>\n",
       "      <td>2</td>\n",
       "      <td>...</td>\n",
       "      <td>0</td>\n",
       "      <td>3</td>\n",
       "      <td>1</td>\n",
       "      <td>2</td>\n",
       "      <td>1</td>\n",
       "      <td>3</td>\n",
       "      <td>1</td>\n",
       "      <td>0</td>\n",
       "      <td>2</td>\n",
       "      <td>5</td>\n",
       "      <td>4</td>\n",
       "      <td>2</td>\n",
       "      <td>0</td>\n",
       "      <td>3</td>\n",
       "      <td>0</td>\n",
       "      <td>1</td>\n",
       "      <td>0</td>\n",
       "      <td>5</td>\n",
       "      <td>4</td>\n",
       "      <td>1</td>\n",
       "      <td>0</td>\n",
       "      <td>1</td>\n",
       "      <td>3</td>\n",
       "      <td>7</td>\n",
       "      <td>2</td>\n",
       "    </tr>\n",
       "    <tr>\n",
       "      <th>4</th>\n",
       "      <td>HOBBIES_1_005_CA_1_validation</td>\n",
       "      <td>HOBBIES_1_005</td>\n",
       "      <td>HOBBIES_1</td>\n",
       "      <td>HOBBIES</td>\n",
       "      <td>CA_1</td>\n",
       "      <td>CA</td>\n",
       "      <td>0</td>\n",
       "      <td>1</td>\n",
       "      <td>2</td>\n",
       "      <td>0</td>\n",
       "      <td>0</td>\n",
       "      <td>0</td>\n",
       "      <td>0</td>\n",
       "      <td>3</td>\n",
       "      <td>1</td>\n",
       "      <td>0</td>\n",
       "      <td>0</td>\n",
       "      <td>0</td>\n",
       "      <td>1</td>\n",
       "      <td>0</td>\n",
       "      <td>2</td>\n",
       "      <td>1</td>\n",
       "      <td>1</td>\n",
       "      <td>2</td>\n",
       "      <td>2</td>\n",
       "      <td>...</td>\n",
       "      <td>4</td>\n",
       "      <td>0</td>\n",
       "      <td>1</td>\n",
       "      <td>4</td>\n",
       "      <td>0</td>\n",
       "      <td>1</td>\n",
       "      <td>0</td>\n",
       "      <td>1</td>\n",
       "      <td>0</td>\n",
       "      <td>1</td>\n",
       "      <td>1</td>\n",
       "      <td>2</td>\n",
       "      <td>0</td>\n",
       "      <td>1</td>\n",
       "      <td>1</td>\n",
       "      <td>2</td>\n",
       "      <td>1</td>\n",
       "      <td>1</td>\n",
       "      <td>0</td>\n",
       "      <td>1</td>\n",
       "      <td>1</td>\n",
       "      <td>2</td>\n",
       "      <td>2</td>\n",
       "      <td>2</td>\n",
       "      <td>4</td>\n",
       "    </tr>\n",
       "  </tbody>\n",
       "</table>\n",
       "<p>5 rows × 736 columns</p>\n",
       "</div>"
      ],
      "text/plain": [
       "                              id        item_id    dept_id   cat_id store_id  \\\n",
       "0  HOBBIES_1_001_CA_1_validation  HOBBIES_1_001  HOBBIES_1  HOBBIES     CA_1   \n",
       "1  HOBBIES_1_002_CA_1_validation  HOBBIES_1_002  HOBBIES_1  HOBBIES     CA_1   \n",
       "2  HOBBIES_1_003_CA_1_validation  HOBBIES_1_003  HOBBIES_1  HOBBIES     CA_1   \n",
       "3  HOBBIES_1_004_CA_1_validation  HOBBIES_1_004  HOBBIES_1  HOBBIES     CA_1   \n",
       "4  HOBBIES_1_005_CA_1_validation  HOBBIES_1_005  HOBBIES_1  HOBBIES     CA_1   \n",
       "\n",
       "  state_id  d_1184  d_1185  d_1186  d_1187  d_1188  d_1189  d_1190  d_1191  \\\n",
       "0       CA       0       1       0       1       0       0       0       0   \n",
       "1       CA       0       0       1       0       0       0       0       0   \n",
       "2       CA       0       0       0       0       0       1       0       0   \n",
       "3       CA       1       4       1       1       1       1       1       2   \n",
       "4       CA       0       1       2       0       0       0       0       3   \n",
       "\n",
       "   d_1192  d_1193  d_1194  d_1195  d_1196  d_1197  d_1198  d_1199  d_1200  \\\n",
       "0       1       0       0       0       0       0       0       1       0   \n",
       "1       2       0       0       0       0       1       0       0       0   \n",
       "2       0       0       0       2       0       0       1       0       0   \n",
       "3      14       2       2       0       2       1       2       3       3   \n",
       "4       1       0       0       0       1       0       2       1       1   \n",
       "\n",
       "   d_1201  d_1202  ...  d_1889  d_1890  d_1891  d_1892  d_1893  d_1894  \\\n",
       "0       0       0  ...       0       0       0       1       0       4   \n",
       "1       0       1  ...       0       0       0       0       0       0   \n",
       "2       0       0  ...       0       0       0       1       0       0   \n",
       "3       2       2  ...       0       3       1       2       1       3   \n",
       "4       2       2  ...       4       0       1       4       0       1   \n",
       "\n",
       "   d_1895  d_1896  d_1897  d_1898  d_1899  d_1900  d_1901  d_1902  d_1903  \\\n",
       "0       2       3       0       1       2       0       0       0       1   \n",
       "1       0       0       0       0       0       0       0       0       0   \n",
       "2       0       1       0       0       0       0       0       1       2   \n",
       "3       1       0       2       5       4       2       0       3       0   \n",
       "4       0       1       0       1       1       2       0       1       1   \n",
       "\n",
       "   d_1904  d_1905  d_1906  d_1907  d_1908  d_1909  d_1910  d_1911  d_1912  \\\n",
       "0       1       3       0       1       1       1       3       0       1   \n",
       "1       0       0       0       0       0       1       0       0       0   \n",
       "2       2       1       2       1       1       1       0       1       1   \n",
       "3       1       0       5       4       1       0       1       3       7   \n",
       "4       2       1       1       0       1       1       2       2       2   \n",
       "\n",
       "   d_1913  \n",
       "0       1  \n",
       "1       0  \n",
       "2       1  \n",
       "3       2  \n",
       "4       4  \n",
       "\n",
       "[5 rows x 736 columns]"
      ]
     },
     "execution_count": 7,
     "metadata": {},
     "output_type": "execute_result"
    }
   ],
   "source": [
    "id_columns = ['id', 'item_id', 'dept_id', 'cat_id', 'store_id', 'state_id']\n",
    "\n",
    "# использую данные только за последние 2 года\n",
    "DAYS = 365*2; LAST_DAY=1913\n",
    "day_columns = [\"d_{}\".format(i) for i in range(LAST_DAY-DAYS+1, LAST_DAY+1)]\n",
    "print(len(day_columns), day_columns[0])\n",
    "sales = sales[id_columns + day_columns]\n",
    "print(sales.shape)\n",
    "sales.head()"
   ]
  },
  {
   "cell_type": "code",
   "execution_count": 8,
   "metadata": {},
   "outputs": [
    {
     "name": "stdout",
     "output_type": "stream",
     "text": [
      ": 22257700 строк и 8 колонок\n",
      "Объем памяти снизился на 1231.14 Mb (9.4%)\n",
      ": 853720 строк и 8 колонок\n",
      "Объем памяти снизился на 46.41 Mb (10.9%)\n"
     ]
    }
   ],
   "source": [
    "# функция преобразования датафрейма\n",
    "# подсчитывает количество продаж по каждому виду товара за определенный день\n",
    "def melted(df, name=''):\n",
    "    df = pd.melt(df, id_vars = id_columns, var_name = 'day', value_name = 'demand')\n",
    "    print('{}: {} строк и {} колонок'.format(name, df.shape[0], df.shape[1]))\n",
    "    df = reduce_mem_usage(df)\n",
    "    return df\n",
    "\n",
    "melted_sales = melted(sales)\n",
    "melted_sales['part'] = 'train'\n",
    "melted_validate = melted(validate_submission)\n",
    "melted_validate['part'] = 'validate'"
   ]
  },
  {
   "cell_type": "code",
   "execution_count": 9,
   "metadata": {},
   "outputs": [
    {
     "data": {
      "text/html": [
       "<div>\n",
       "<style scoped>\n",
       "    .dataframe tbody tr th:only-of-type {\n",
       "        vertical-align: middle;\n",
       "    }\n",
       "\n",
       "    .dataframe tbody tr th {\n",
       "        vertical-align: top;\n",
       "    }\n",
       "\n",
       "    .dataframe thead th {\n",
       "        text-align: right;\n",
       "    }\n",
       "</style>\n",
       "<table border=\"1\" class=\"dataframe\">\n",
       "  <thead>\n",
       "    <tr style=\"text-align: right;\">\n",
       "      <th></th>\n",
       "      <th>id</th>\n",
       "      <th>item_id</th>\n",
       "      <th>dept_id</th>\n",
       "      <th>cat_id</th>\n",
       "      <th>store_id</th>\n",
       "      <th>state_id</th>\n",
       "      <th>day</th>\n",
       "      <th>demand</th>\n",
       "      <th>part</th>\n",
       "    </tr>\n",
       "  </thead>\n",
       "  <tbody>\n",
       "    <tr>\n",
       "      <th>0</th>\n",
       "      <td>HOBBIES_1_001_CA_1_validation</td>\n",
       "      <td>HOBBIES_1_001</td>\n",
       "      <td>HOBBIES_1</td>\n",
       "      <td>HOBBIES</td>\n",
       "      <td>CA_1</td>\n",
       "      <td>CA</td>\n",
       "      <td>d_1184</td>\n",
       "      <td>0</td>\n",
       "      <td>train</td>\n",
       "    </tr>\n",
       "    <tr>\n",
       "      <th>1</th>\n",
       "      <td>HOBBIES_1_002_CA_1_validation</td>\n",
       "      <td>HOBBIES_1_002</td>\n",
       "      <td>HOBBIES_1</td>\n",
       "      <td>HOBBIES</td>\n",
       "      <td>CA_1</td>\n",
       "      <td>CA</td>\n",
       "      <td>d_1184</td>\n",
       "      <td>0</td>\n",
       "      <td>train</td>\n",
       "    </tr>\n",
       "    <tr>\n",
       "      <th>2</th>\n",
       "      <td>HOBBIES_1_003_CA_1_validation</td>\n",
       "      <td>HOBBIES_1_003</td>\n",
       "      <td>HOBBIES_1</td>\n",
       "      <td>HOBBIES</td>\n",
       "      <td>CA_1</td>\n",
       "      <td>CA</td>\n",
       "      <td>d_1184</td>\n",
       "      <td>0</td>\n",
       "      <td>train</td>\n",
       "    </tr>\n",
       "    <tr>\n",
       "      <th>3</th>\n",
       "      <td>HOBBIES_1_004_CA_1_validation</td>\n",
       "      <td>HOBBIES_1_004</td>\n",
       "      <td>HOBBIES_1</td>\n",
       "      <td>HOBBIES</td>\n",
       "      <td>CA_1</td>\n",
       "      <td>CA</td>\n",
       "      <td>d_1184</td>\n",
       "      <td>1</td>\n",
       "      <td>train</td>\n",
       "    </tr>\n",
       "    <tr>\n",
       "      <th>4</th>\n",
       "      <td>HOBBIES_1_005_CA_1_validation</td>\n",
       "      <td>HOBBIES_1_005</td>\n",
       "      <td>HOBBIES_1</td>\n",
       "      <td>HOBBIES</td>\n",
       "      <td>CA_1</td>\n",
       "      <td>CA</td>\n",
       "      <td>d_1184</td>\n",
       "      <td>0</td>\n",
       "      <td>train</td>\n",
       "    </tr>\n",
       "  </tbody>\n",
       "</table>\n",
       "</div>"
      ],
      "text/plain": [
       "                              id        item_id    dept_id   cat_id store_id  \\\n",
       "0  HOBBIES_1_001_CA_1_validation  HOBBIES_1_001  HOBBIES_1  HOBBIES     CA_1   \n",
       "1  HOBBIES_1_002_CA_1_validation  HOBBIES_1_002  HOBBIES_1  HOBBIES     CA_1   \n",
       "2  HOBBIES_1_003_CA_1_validation  HOBBIES_1_003  HOBBIES_1  HOBBIES     CA_1   \n",
       "3  HOBBIES_1_004_CA_1_validation  HOBBIES_1_004  HOBBIES_1  HOBBIES     CA_1   \n",
       "4  HOBBIES_1_005_CA_1_validation  HOBBIES_1_005  HOBBIES_1  HOBBIES     CA_1   \n",
       "\n",
       "  state_id     day  demand   part  \n",
       "0       CA  d_1184       0  train  \n",
       "1       CA  d_1184       0  train  \n",
       "2       CA  d_1184       0  train  \n",
       "3       CA  d_1184       1  train  \n",
       "4       CA  d_1184       0  train  "
      ]
     },
     "execution_count": 9,
     "metadata": {},
     "output_type": "execute_result"
    }
   ],
   "source": [
    "data = pd.concat([melted_sales, melted_validate], axis = 0)\n",
    "data.head()"
   ]
  },
  {
   "cell_type": "code",
   "execution_count": 10,
   "metadata": {},
   "outputs": [
    {
     "data": {
      "text/plain": [
       "56"
      ]
     },
     "execution_count": 10,
     "metadata": {},
     "output_type": "execute_result"
    }
   ],
   "source": [
    "del melted_sales, melted_validate\n",
    "del submission, validate_submission, eval_submission, product\n",
    "del sales,\n",
    "gc.collect()"
   ]
  },
  {
   "cell_type": "code",
   "execution_count": 11,
   "metadata": {},
   "outputs": [
    {
     "name": "stdout",
     "output_type": "stream",
     "text": [
      "Трейн содержит 22589864 строк и 18 столбцов\n"
     ]
    }
   ],
   "source": [
    "# объединение всех загруженных и преобразованных датафреймов в финальный датафрейм\n",
    "calendar.drop(['weekday', 'wday', 'month', 'year'], inplace = True, axis = 1)\n",
    "data = pd.merge(data, calendar, how = 'left', left_on = ['day'], right_on = ['d'])\n",
    "data.drop(['d', 'day'], inplace = True, axis = 1)\n",
    "\n",
    "data = data.merge(sell_prices, on = ['store_id', 'item_id', 'wm_yr_wk'])\n",
    "\n",
    "print('Трейн содержит {} строк и {} столбцов'.format(data.shape[0], data.shape[1]))"
   ]
  },
  {
   "cell_type": "code",
   "execution_count": 12,
   "metadata": {},
   "outputs": [
    {
     "data": {
      "text/plain": [
       "40"
      ]
     },
     "execution_count": 12,
     "metadata": {},
     "output_type": "execute_result"
    }
   ],
   "source": [
    "del calendar, sell_prices\n",
    "gc.collect()"
   ]
  },
  {
   "cell_type": "markdown",
   "metadata": {},
   "source": [
    "### Создание новых признаков и преобразование категориальных переменных"
   ]
  },
  {
   "cell_type": "code",
   "execution_count": 13,
   "metadata": {},
   "outputs": [
    {
     "name": "stdout",
     "output_type": "stream",
     "text": [
      "Объем памяти снизился на 1701.93 Mb (4.8%)\n",
      "Объем памяти снизился на 1098.71 Mb (7.3%)\n"
     ]
    }
   ],
   "source": [
    "# функция преобразовывает категориальные переменные в целые числа (One-hot-encoding)\n",
    "def encoding(df, list):\n",
    "    for column in list:\n",
    "        df[column] = df[column].astype(\"category\").cat.codes.astype(\"int16\")\n",
    "        df[column] -= df[column].min()    \n",
    "    return df\n",
    "\n",
    "event_dtypes = ['event_name_1', 'event_name_2', 'event_type_1', 'event_type_2']\n",
    "\n",
    "id_dtypes = ['store_id', 'item_id', 'state_id', 'dept_id', 'cat_id']\n",
    "\n",
    "event_fillna = {'event_name_1': 'normal', \n",
    "                'event_name_2': 'normal',\n",
    "                'event_type_1': 'normal', \n",
    "                'event_type_2': 'normal'}\n",
    "\n",
    "data = encoding(data, id_dtypes).pipe(reduce_mem_usage)\n",
    "data.fillna(value=event_fillna, inplace = True)\n",
    "data = encoding(data, event_dtypes).pipe(reduce_mem_usage)"
   ]
  },
  {
   "cell_type": "code",
   "execution_count": 14,
   "metadata": {},
   "outputs": [
    {
     "data": {
      "text/html": [
       "<div>\n",
       "<style scoped>\n",
       "    .dataframe tbody tr th:only-of-type {\n",
       "        vertical-align: middle;\n",
       "    }\n",
       "\n",
       "    .dataframe tbody tr th {\n",
       "        vertical-align: top;\n",
       "    }\n",
       "\n",
       "    .dataframe thead th {\n",
       "        text-align: right;\n",
       "    }\n",
       "</style>\n",
       "<table border=\"1\" class=\"dataframe\">\n",
       "  <thead>\n",
       "    <tr style=\"text-align: right;\">\n",
       "      <th></th>\n",
       "      <th>id</th>\n",
       "      <th>item_id</th>\n",
       "      <th>dept_id</th>\n",
       "      <th>cat_id</th>\n",
       "      <th>store_id</th>\n",
       "      <th>state_id</th>\n",
       "      <th>demand</th>\n",
       "      <th>part</th>\n",
       "      <th>date</th>\n",
       "      <th>wm_yr_wk</th>\n",
       "      <th>event_name_1</th>\n",
       "      <th>event_type_1</th>\n",
       "      <th>event_name_2</th>\n",
       "      <th>event_type_2</th>\n",
       "      <th>snap_CA</th>\n",
       "      <th>snap_TX</th>\n",
       "      <th>snap_WI</th>\n",
       "      <th>sell_price</th>\n",
       "      <th>year</th>\n",
       "      <th>quarter</th>\n",
       "      <th>month</th>\n",
       "      <th>week</th>\n",
       "      <th>day</th>\n",
       "      <th>dayofweek</th>\n",
       "      <th>weekday</th>\n",
       "      <th>weekofyear</th>\n",
       "      <th>is_weekend</th>\n",
       "    </tr>\n",
       "  </thead>\n",
       "  <tbody>\n",
       "    <tr>\n",
       "      <th>0</th>\n",
       "      <td>HOBBIES_1_001_CA_1_validation</td>\n",
       "      <td>1437</td>\n",
       "      <td>3</td>\n",
       "      <td>1</td>\n",
       "      <td>0</td>\n",
       "      <td>0</td>\n",
       "      <td>0</td>\n",
       "      <td>train</td>\n",
       "      <td>2014-04-26</td>\n",
       "      <td>11413</td>\n",
       "      <td>30</td>\n",
       "      <td>4</td>\n",
       "      <td>1</td>\n",
       "      <td>1</td>\n",
       "      <td>0</td>\n",
       "      <td>0</td>\n",
       "      <td>0</td>\n",
       "      <td>8.257812</td>\n",
       "      <td>2014</td>\n",
       "      <td>2</td>\n",
       "      <td>4</td>\n",
       "      <td>17</td>\n",
       "      <td>26</td>\n",
       "      <td>5</td>\n",
       "      <td>5</td>\n",
       "      <td>17</td>\n",
       "      <td>1</td>\n",
       "    </tr>\n",
       "    <tr>\n",
       "      <th>1</th>\n",
       "      <td>HOBBIES_1_001_CA_1_validation</td>\n",
       "      <td>1437</td>\n",
       "      <td>3</td>\n",
       "      <td>1</td>\n",
       "      <td>0</td>\n",
       "      <td>0</td>\n",
       "      <td>1</td>\n",
       "      <td>train</td>\n",
       "      <td>2014-04-27</td>\n",
       "      <td>11413</td>\n",
       "      <td>30</td>\n",
       "      <td>4</td>\n",
       "      <td>1</td>\n",
       "      <td>1</td>\n",
       "      <td>0</td>\n",
       "      <td>0</td>\n",
       "      <td>0</td>\n",
       "      <td>8.257812</td>\n",
       "      <td>2014</td>\n",
       "      <td>2</td>\n",
       "      <td>4</td>\n",
       "      <td>17</td>\n",
       "      <td>27</td>\n",
       "      <td>6</td>\n",
       "      <td>6</td>\n",
       "      <td>17</td>\n",
       "      <td>1</td>\n",
       "    </tr>\n",
       "    <tr>\n",
       "      <th>2</th>\n",
       "      <td>HOBBIES_1_001_CA_1_validation</td>\n",
       "      <td>1437</td>\n",
       "      <td>3</td>\n",
       "      <td>1</td>\n",
       "      <td>0</td>\n",
       "      <td>0</td>\n",
       "      <td>0</td>\n",
       "      <td>train</td>\n",
       "      <td>2014-04-28</td>\n",
       "      <td>11413</td>\n",
       "      <td>30</td>\n",
       "      <td>4</td>\n",
       "      <td>1</td>\n",
       "      <td>1</td>\n",
       "      <td>0</td>\n",
       "      <td>0</td>\n",
       "      <td>0</td>\n",
       "      <td>8.257812</td>\n",
       "      <td>2014</td>\n",
       "      <td>2</td>\n",
       "      <td>4</td>\n",
       "      <td>18</td>\n",
       "      <td>28</td>\n",
       "      <td>0</td>\n",
       "      <td>0</td>\n",
       "      <td>18</td>\n",
       "      <td>0</td>\n",
       "    </tr>\n",
       "    <tr>\n",
       "      <th>3</th>\n",
       "      <td>HOBBIES_1_001_CA_1_validation</td>\n",
       "      <td>1437</td>\n",
       "      <td>3</td>\n",
       "      <td>1</td>\n",
       "      <td>0</td>\n",
       "      <td>0</td>\n",
       "      <td>1</td>\n",
       "      <td>train</td>\n",
       "      <td>2014-04-29</td>\n",
       "      <td>11413</td>\n",
       "      <td>30</td>\n",
       "      <td>4</td>\n",
       "      <td>1</td>\n",
       "      <td>1</td>\n",
       "      <td>0</td>\n",
       "      <td>0</td>\n",
       "      <td>0</td>\n",
       "      <td>8.257812</td>\n",
       "      <td>2014</td>\n",
       "      <td>2</td>\n",
       "      <td>4</td>\n",
       "      <td>18</td>\n",
       "      <td>29</td>\n",
       "      <td>1</td>\n",
       "      <td>1</td>\n",
       "      <td>18</td>\n",
       "      <td>0</td>\n",
       "    </tr>\n",
       "    <tr>\n",
       "      <th>4</th>\n",
       "      <td>HOBBIES_1_001_CA_1_validation</td>\n",
       "      <td>1437</td>\n",
       "      <td>3</td>\n",
       "      <td>1</td>\n",
       "      <td>0</td>\n",
       "      <td>0</td>\n",
       "      <td>0</td>\n",
       "      <td>train</td>\n",
       "      <td>2014-04-30</td>\n",
       "      <td>11413</td>\n",
       "      <td>30</td>\n",
       "      <td>4</td>\n",
       "      <td>1</td>\n",
       "      <td>1</td>\n",
       "      <td>0</td>\n",
       "      <td>0</td>\n",
       "      <td>0</td>\n",
       "      <td>8.257812</td>\n",
       "      <td>2014</td>\n",
       "      <td>2</td>\n",
       "      <td>4</td>\n",
       "      <td>18</td>\n",
       "      <td>30</td>\n",
       "      <td>2</td>\n",
       "      <td>2</td>\n",
       "      <td>18</td>\n",
       "      <td>0</td>\n",
       "    </tr>\n",
       "  </tbody>\n",
       "</table>\n",
       "</div>"
      ],
      "text/plain": [
       "                              id  item_id  dept_id  cat_id  store_id  \\\n",
       "0  HOBBIES_1_001_CA_1_validation     1437        3       1         0   \n",
       "1  HOBBIES_1_001_CA_1_validation     1437        3       1         0   \n",
       "2  HOBBIES_1_001_CA_1_validation     1437        3       1         0   \n",
       "3  HOBBIES_1_001_CA_1_validation     1437        3       1         0   \n",
       "4  HOBBIES_1_001_CA_1_validation     1437        3       1         0   \n",
       "\n",
       "   state_id  demand   part       date  wm_yr_wk  event_name_1  event_type_1  \\\n",
       "0         0       0  train 2014-04-26     11413            30             4   \n",
       "1         0       1  train 2014-04-27     11413            30             4   \n",
       "2         0       0  train 2014-04-28     11413            30             4   \n",
       "3         0       1  train 2014-04-29     11413            30             4   \n",
       "4         0       0  train 2014-04-30     11413            30             4   \n",
       "\n",
       "   event_name_2  event_type_2  snap_CA  snap_TX  snap_WI  sell_price  year  \\\n",
       "0             1             1        0        0        0    8.257812  2014   \n",
       "1             1             1        0        0        0    8.257812  2014   \n",
       "2             1             1        0        0        0    8.257812  2014   \n",
       "3             1             1        0        0        0    8.257812  2014   \n",
       "4             1             1        0        0        0    8.257812  2014   \n",
       "\n",
       "   quarter  month  week  day  dayofweek  weekday  weekofyear  is_weekend  \n",
       "0        2      4    17   26          5        5          17           1  \n",
       "1        2      4    17   27          6        6          17           1  \n",
       "2        2      4    18   28          0        0          18           0  \n",
       "3        2      4    18   29          1        1          18           0  \n",
       "4        2      4    18   30          2        2          18           0  "
      ]
     },
     "execution_count": 14,
     "metadata": {},
     "output_type": "execute_result"
    }
   ],
   "source": [
    "# создание новых признаков из даты \n",
    "# 'year' - год\n",
    "# 'quarter' - квартал\n",
    "# 'month' - месяц\n",
    "# 'week' - неделя\n",
    "# 'day' - день\n",
    "# 'dayofweek' - день недели\n",
    "# 'weekday' - номер дня недели\n",
    "# 'weekofyear' - номер недели в году\n",
    "# 'is_weekend' - выходной\n",
    "def datetime_features(df):\n",
    "    df = df.copy()\n",
    "    df['date'] = pd.to_datetime(df['date'])\n",
    "    attrs = ['year','quarter', 'month', 'week', \n",
    "             'day', 'dayofweek', 'weekday','weekofyear']\n",
    "    for attr in attrs:\n",
    "        dtype = np.int16 if attr == \"year\" else np.int8\n",
    "        df[attr] = getattr(df['date'].dt, attr).astype(dtype)\n",
    "    df[\"is_weekend\"] = df[\"dayofweek\"].isin([5, 6]).astype(np.int8)\n",
    "    return df\n",
    "\n",
    "data = datetime_features(data)\n",
    "data.head()"
   ]
  },
  {
   "cell_type": "code",
   "execution_count": 15,
   "metadata": {},
   "outputs": [
    {
     "name": "stdout",
     "output_type": "stream",
     "text": [
      "21736144 853720\n"
     ]
    },
    {
     "data": {
      "text/plain": [
       "135"
      ]
     },
     "execution_count": 15,
     "metadata": {},
     "output_type": "execute_result"
    }
   ],
   "source": [
    "data.sort_values(by=['id', 'date'], inplace=True)\n",
    "\n",
    "X_train = data[data['part'] == 'train']\n",
    "X_val = data[data['part'] == 'validate']\n",
    "\n",
    "print(len(X_train), len(X_val))\n",
    "del data; gc.collect()"
   ]
  },
  {
   "cell_type": "code",
   "execution_count": 16,
   "metadata": {},
   "outputs": [],
   "source": [
    "# сохранение объектов X_train и X_val\n",
    "dbfile = open('X_train.pkl', 'wb') \n",
    "pickle.dump(X_train, dbfile)\n",
    "dbfile.close()\n",
    "\n",
    "dbfile = open('X_val.pkl', 'wb') \n",
    "pickle.dump(X_val, dbfile)\n",
    "dbfile.close() "
   ]
  },
  {
   "cell_type": "code",
   "execution_count": 17,
   "metadata": {},
   "outputs": [],
   "source": [
    "# функция для создания скользящих окон в 7 и 28 дней (неделя и месяц)\n",
    "def numerical_feature(df):\n",
    "    for i in [7, 28]:\n",
    "        df[f\"shifted_t{i}\"] = df[[\"id\",\"demand\"]].groupby('id')[\"demand\"].shift(i)\n",
    "\n",
    "    for win, col in [(7, \"shifted_t7\"), (7, \"shifted_t28\"), (28, \"shifted_t7\"), (28, \"shifted_t28\")]:\n",
    "        df[f\"rolling_mean_{col}_w{win}\"] = df[[\"id\", col]].groupby('id')[col].shift(1).rolling(win, min_periods=1).mean()\n",
    "    return df\n",
    "\n"
   ]
  },
  {
   "cell_type": "code",
   "execution_count": 18,
   "metadata": {},
   "outputs": [
    {
     "name": "stdout",
     "output_type": "stream",
     "text": [
      "Wall time: 27 s\n"
     ]
    },
    {
     "data": {
      "text/plain": [
       "0"
      ]
     },
     "execution_count": 18,
     "metadata": {},
     "output_type": "execute_result"
    }
   ],
   "source": [
    "X_train = numerical_feature(X_train)\n",
    "X_train.dropna(inplace = True)\n",
    "gc.collect()"
   ]
  },
  {
   "cell_type": "code",
   "execution_count": 19,
   "metadata": {},
   "outputs": [
    {
     "data": {
      "text/plain": [
       "((20851934, 33),\n",
       " Index(['id', 'item_id', 'dept_id', 'cat_id', 'store_id', 'state_id', 'demand',\n",
       "        'part', 'date', 'wm_yr_wk', 'event_name_1', 'event_type_1',\n",
       "        'event_name_2', 'event_type_2', 'snap_CA', 'snap_TX', 'snap_WI',\n",
       "        'sell_price', 'year', 'quarter', 'month', 'week', 'day', 'dayofweek',\n",
       "        'weekday', 'weekofyear', 'is_weekend', 'shifted_t7', 'shifted_t28',\n",
       "        'rolling_mean_shifted_t7_w7', 'rolling_mean_shifted_t28_w7',\n",
       "        'rolling_mean_shifted_t7_w28', 'rolling_mean_shifted_t28_w28'],\n",
       "       dtype='object'))"
      ]
     },
     "execution_count": 19,
     "metadata": {},
     "output_type": "execute_result"
    }
   ],
   "source": [
    "X_train.shape, X_train.columns"
   ]
  },
  {
   "cell_type": "markdown",
   "metadata": {},
   "source": [
    "### Разделение датафрейма на обучающий набор и набор для проверки"
   ]
  },
  {
   "cell_type": "code",
   "execution_count": 20,
   "metadata": {},
   "outputs": [],
   "source": [
    "cat_feats = ['item_id', 'dept_id','store_id', 'cat_id', 'state_id',\n",
    "             'event_name_1', 'event_name_2', 'event_type_1', 'event_type_2']\n",
    "useless_cols = ['id', 'part', 'date', 'demand', 'd', 'wm_yr_wk', 'weekday']\n",
    "train_cols = X_train.columns[~X_train.columns.isin(useless_cols)]\n",
    "\n",
    "y_train = X_train['demand']\n",
    "X_train = X_train[train_cols]"
   ]
  },
  {
   "cell_type": "code",
   "execution_count": 21,
   "metadata": {},
   "outputs": [
    {
     "name": "stdout",
     "output_type": "stream",
     "text": [
      "Wall time: 7.12 s\n"
     ]
    }
   ],
   "source": [
    "%%time\n",
    "from sklearn.model_selection import train_test_split\n",
    "np.random.seed(777)\n",
    "\n",
    "X, x_test, Y, y_test = train_test_split(X_train, y_train, test_size=0.05)"
   ]
  },
  {
   "cell_type": "code",
   "execution_count": 22,
   "metadata": {},
   "outputs": [
    {
     "data": {
      "text/plain": [
       "90"
      ]
     },
     "execution_count": 22,
     "metadata": {},
     "output_type": "execute_result"
    }
   ],
   "source": [
    "del X_train, y_train; gc.collect()"
   ]
  },
  {
   "cell_type": "markdown",
   "metadata": {},
   "source": [
    "### LightGBM модель"
   ]
  },
  {
   "cell_type": "code",
   "execution_count": 23,
   "metadata": {},
   "outputs": [],
   "source": [
    "parameters = {'objective': 'poisson',\n",
    "              'force_row_wise': True,\n",
    "              'learning_rate': 0.075,\n",
    "              'sub_row': 0.75,\n",
    "              'bagging_freq': 1,\n",
    "              'lambda_l2': 0.1,\n",
    "              'metric': ['rmse'],\n",
    "              'verbosity': 1,\n",
    "              'num_iterations' : 1000,\n",
    "              'num_leaves': 128,\n",
    "              'min_data_in_leaf': 100}"
   ]
  },
  {
   "cell_type": "code",
   "execution_count": 24,
   "metadata": {},
   "outputs": [
    {
     "data": {
      "text/plain": [
       "40"
      ]
     },
     "execution_count": 24,
     "metadata": {},
     "output_type": "execute_result"
    }
   ],
   "source": [
    "train_set = lgb.Dataset(X, Y)\n",
    "test_set = lgb.Dataset(x_test, y_test)\n",
    "del X, Y, x_test, y_test; gc.collect()"
   ]
  },
  {
   "cell_type": "code",
   "execution_count": 25,
   "metadata": {},
   "outputs": [],
   "source": [
    "dbfile = open('train_set.pkl', 'wb') \n",
    "pickle.dump(train_set, dbfile)\n",
    "dbfile.close() #Dont forget this \n",
    "\n",
    "dbfile = open('test_set.pkl', 'wb') \n",
    "pickle.dump(test_set, dbfile)\n",
    "dbfile.close() #Dont forget this "
   ]
  },
  {
   "cell_type": "code",
   "execution_count": 26,
   "metadata": {},
   "outputs": [
    {
     "name": "stderr",
     "output_type": "stream",
     "text": [
      "C:\\Users\\Miron\\Anaconda3\\lib\\site-packages\\lightgbm\\engine.py:148: UserWarning: Found `num_iterations` in params. Will use it instead of argument\n",
      "  warnings.warn(\"Found `{}` in params. Will use it instead of argument\".format(alias))\n"
     ]
    },
    {
     "name": "stdout",
     "output_type": "stream",
     "text": [
      "[50]\tvalid_0's rmse: 2.26255\n",
      "[100]\tvalid_0's rmse: 2.20777\n",
      "[150]\tvalid_0's rmse: 2.18987\n",
      "[200]\tvalid_0's rmse: 2.17645\n",
      "[250]\tvalid_0's rmse: 2.16529\n",
      "[300]\tvalid_0's rmse: 2.1576\n",
      "[350]\tvalid_0's rmse: 2.14901\n",
      "[400]\tvalid_0's rmse: 2.14165\n",
      "[450]\tvalid_0's rmse: 2.13607\n",
      "[500]\tvalid_0's rmse: 2.1304\n",
      "[550]\tvalid_0's rmse: 2.12655\n",
      "[600]\tvalid_0's rmse: 2.12146\n",
      "[650]\tvalid_0's rmse: 2.11857\n",
      "[700]\tvalid_0's rmse: 2.11591\n",
      "[750]\tvalid_0's rmse: 2.11321\n",
      "[800]\tvalid_0's rmse: 2.11045\n",
      "[850]\tvalid_0's rmse: 2.10791\n",
      "[900]\tvalid_0's rmse: 2.10601\n",
      "[950]\tvalid_0's rmse: 2.1037\n",
      "[1000]\tvalid_0's rmse: 2.10097\n",
      "Wall time: 18min 5s\n"
     ]
    }
   ],
   "source": [
    "%%time\n",
    "\n",
    "model = lgb.train(parameters, train_set, valid_sets = [test_set], verbose_eval = 50)"
   ]
  },
  {
   "cell_type": "code",
   "execution_count": 27,
   "metadata": {},
   "outputs": [
    {
     "data": {
      "text/plain": [
       "<lightgbm.basic.Booster at 0x17f2295db88>"
      ]
     },
     "execution_count": 27,
     "metadata": {},
     "output_type": "execute_result"
    }
   ],
   "source": [
    "model.save_model(\"model.lgb\")"
   ]
  },
  {
   "cell_type": "markdown",
   "metadata": {},
   "source": [
    "### Предсказание"
   ]
  },
  {
   "cell_type": "code",
   "execution_count": 28,
   "metadata": {},
   "outputs": [],
   "source": [
    "with open(\"X_train.pkl\", 'rb') as fin:\n",
    "    X_train = pickle.load(fin)\n",
    "\n",
    "with open(\"X_val.pkl\", 'rb') as fin:\n",
    "    X_val = pickle.load(fin)"
   ]
  },
  {
   "cell_type": "code",
   "execution_count": 29,
   "metadata": {},
   "outputs": [
    {
     "name": "stdout",
     "output_type": "stream",
     "text": [
      "Wall time: 476 ms\n"
     ]
    }
   ],
   "source": [
    "%%time\n",
    "last_date = '2016-01-29' # - 86 дней от последней даты датафрейма\n",
    "X_train = X_train[X_train['date'] >= last_date]"
   ]
  },
  {
   "cell_type": "code",
   "execution_count": 30,
   "metadata": {},
   "outputs": [],
   "source": [
    "# функция для создания тестового датафрейма и получения предсказания с помощьюю обученной модели\n",
    "# factor - веса\n",
    "def predict(model, X_train, X_test, factor=1):\n",
    "    dates = X_test['date'].unique()\n",
    "    count_dates = len(dates)\n",
    "    print(\"Прогноз для \", count_dates, 'дат')\n",
    "    \n",
    "    col = ['id'] + ['F{}'.format(i) for i in range(1, count_dates+1)] #создание столбцов вида F1 - F28\n",
    "    dept_id = X_train['dept_id'].unique() #уникальные виды продуктов (dept_id)\n",
    "    \n",
    "    accuracies = []\n",
    "    dept_id = sorted(dept_id)\n",
    "    for iid in dept_id:\n",
    "        test = X_test[X_test['dept_id']==iid]\n",
    "        ids = test['id'].unique() #уникальные значения по видам продукта (item_id)\n",
    "        ids_zeros = np.zeros((len(ids), count_dates+1))\n",
    "        ids_df = pd.DataFrame(ids_zeros, columns=col)\n",
    "        ids_df['id'] = test[test['date']==dates[0]]['id'].values\n",
    "        train = X_train[X_train['dept_id']==iid]\n",
    "        lastmonth = pd.to_datetime(train.head(1)['date'])\n",
    "        \n",
    "        for idx, date in enumerate(dates):\n",
    "            newrow = test[test['date']==date]\n",
    "            train = train.append(newrow)\n",
    "            train.sort_values(by=['id', 'date'], inplace=True)\n",
    "            feat = numerical_feature(train)\n",
    "            x = feat.loc[feat['date']==date , train_cols]\n",
    "            val_pred = model.predict(x, num_iteration=model.best_iteration)\n",
    "            ids_df[f'F{idx+1}'] = val_pred * factor\n",
    "            train.loc[train['date']==date, 'demand'] = val_pred * factor\n",
    "            lastmonth = lastmonth + pd.DateOffset(days=1)\n",
    "            train = train[train['date'] >= str(lastmonth.values[0])]\n",
    "            \n",
    "        accuracies.append(ids_df)\n",
    "        accuracies = [pd.concat(accuracies)]\n",
    "        print(iid)\n",
    "\n",
    "    accuracies = pd.concat(accuracies)\n",
    "    return accuracies"
   ]
  },
  {
   "cell_type": "code",
   "execution_count": 31,
   "metadata": {},
   "outputs": [
    {
     "name": "stdout",
     "output_type": "stream",
     "text": [
      "Получение предсказаний с весом - 1\n",
      "Прогноз для  28 дат\n"
     ]
    },
    {
     "name": "stderr",
     "output_type": "stream",
     "text": [
      "C:\\Users\\Miron\\Anaconda3\\lib\\site-packages\\pandas\\core\\frame.py:7138: FutureWarning: Sorting because non-concatenation axis is not aligned. A future version\n",
      "of pandas will change to not sort by default.\n",
      "\n",
      "To accept the future behavior, pass 'sort=False'.\n",
      "\n",
      "To retain the current behavior and silence the warning, pass 'sort=True'.\n",
      "\n",
      "  sort=sort,\n"
     ]
    },
    {
     "name": "stdout",
     "output_type": "stream",
     "text": [
      "0\n",
      "1\n",
      "2\n",
      "3\n",
      "4\n",
      "5\n",
      "6\n",
      "Получение предсказаний с весом - 1.028\n",
      "Прогноз для  28 дат\n",
      "0\n",
      "1\n",
      "2\n",
      "3\n",
      "4\n",
      "5\n",
      "6\n",
      "Получение предсказаний с весом - 1.023\n",
      "Прогноз для  28 дат\n",
      "0\n",
      "1\n",
      "2\n",
      "3\n",
      "4\n",
      "5\n",
      "6\n",
      "Получение предсказаний с весом - 1.018\n",
      "Прогноз для  28 дат\n",
      "0\n",
      "1\n",
      "2\n",
      "3\n",
      "4\n",
      "5\n",
      "6\n"
     ]
    }
   ],
   "source": [
    "final_pred = []\n",
    "weights = [1, 1.028, 1.023, 1.018] #веса\n",
    "for w in weights:\n",
    "    print('Получение предсказаний с весом -',w)\n",
    "    pred = predict(model, X_train, X_val, factor=w)\n",
    "    final_pred.append(pred)"
   ]
  },
  {
   "cell_type": "code",
   "execution_count": 32,
   "metadata": {},
   "outputs": [],
   "source": [
    "#усреднение полученных предсказаний\n",
    "avg_pred = pd.DataFrame([])\n",
    "avg_pred['id'] = final_pred[0]['id']\n",
    "for i in range(1, 29):\n",
    "    avg_pred[f'F{i}'] = (final_pred[1][f'F{i}'] + final_pred[2][f'F{i}'] + final_pred[3][f'F{i}'])/3"
   ]
  },
  {
   "cell_type": "code",
   "execution_count": 33,
   "metadata": {},
   "outputs": [],
   "source": [
    "submission = pd.read_csv(r'sample_submission.csv')\n",
    "dfeval = submission[submission.id.str.endswith('evaluation')]\n",
    "assert len(dfeval)==len(avg_pred)"
   ]
  },
  {
   "cell_type": "code",
   "execution_count": 36,
   "metadata": {},
   "outputs": [],
   "source": [
    "#функция для сохранения полученных данных\n",
    "def save_csv(d):\n",
    "    df = pd.concat([d, dfeval]) \n",
    "    df.reset_index(drop=True, inplace = True)\n",
    "    return df.to_csv(f'submission.csv', index=False)\n",
    "\n",
    "save_csv(avg_pred) "
   ]
  },
  {
   "cell_type": "code",
   "execution_count": null,
   "metadata": {},
   "outputs": [],
   "source": []
  }
 ],
 "metadata": {
  "kernelspec": {
   "display_name": "Python 3",
   "language": "python",
   "name": "python3"
  },
  "language_info": {
   "codemirror_mode": {
    "name": "ipython",
    "version": 3
   },
   "file_extension": ".py",
   "mimetype": "text/x-python",
   "name": "python",
   "nbconvert_exporter": "python",
   "pygments_lexer": "ipython3",
   "version": "3.7.5"
  }
 },
 "nbformat": 4,
 "nbformat_minor": 4
}
